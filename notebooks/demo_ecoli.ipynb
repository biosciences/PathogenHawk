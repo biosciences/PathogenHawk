{
 "cells": [
  {
   "cell_type": "markdown",
   "id": "39d97ba0",
   "metadata": {},
   "source": [
    "# 🧠 PathogenHawk Demo: *E. coli* AMR Prediction (Ceftriaxone)"
   ]
  },
  {
   "cell_type": "code",
   "execution_count": null,
   "id": "4a3e8317",
   "metadata": {},
   "outputs": [],
   "source": [
    "import yaml\n",
    "import pandas as pd\n",
    "from feature_engineering.build_features import build_features\n",
    "from ml_model.evaluate_model import evaluate_model\n",
    "from ml_model.interpret_model import interpret_model\n",
    "from sklearn.model_selection import train_test_split\n",
    "from xgboost import XGBClassifier"
   ]
  },
  {
   "cell_type": "markdown",
   "id": "0d30064a",
   "metadata": {},
   "source": [
    "## 🔧 Load Configuration"
   ]
  },
  {
   "cell_type": "code",
   "execution_count": null,
   "id": "a71c2f34",
   "metadata": {},
   "outputs": [],
   "source": [
    "with open(\"../configs/ecoli.yaml\", \"r\") as f:\n",
    "    config = yaml.safe_load(f)"
   ]
  },
  {
   "cell_type": "markdown",
   "id": "0870ea56",
   "metadata": {},
   "source": [
    "## 📊 Step 1: Load Features and Labels"
   ]
  },
  {
   "cell_type": "code",
   "execution_count": null,
   "id": "8a7fc65c",
   "metadata": {},
   "outputs": [],
   "source": [
    "X, y = build_features(config)\n",
    "print(\"✅ Features shape:\", X.shape)\n",
    "print(\"✅ Labels:\", pd.Series(y).value_counts().to_dict())"
   ]
  },
  {
   "cell_type": "markdown",
   "id": "bf0b43f5",
   "metadata": {},
   "source": [
    "## 🔁 Step 2: Split Train/Test"
   ]
  },
  {
   "cell_type": "code",
   "execution_count": null,
   "id": "31d1bfc9",
   "metadata": {},
   "outputs": [],
   "source": [
    "X_train, X_test, y_train, y_test = train_test_split(X, y, test_size=0.25, random_state=42)"
   ]
  },
  {
   "cell_type": "markdown",
   "id": "e7995232",
   "metadata": {},
   "source": [
    "## 🤖 Step 3: Train ML Model"
   ]
  },
  {
   "cell_type": "code",
   "execution_count": null,
   "id": "d778d6ff",
   "metadata": {},
   "outputs": [],
   "source": [
    "model = XGBClassifier(use_label_encoder=False, eval_metric=\"logloss\")\n",
    "model.fit(X_train, y_train)"
   ]
  },
  {
   "cell_type": "markdown",
   "id": "c83fdbf9",
   "metadata": {},
   "source": [
    "## 📈 Step 4: Evaluate Model"
   ]
  },
  {
   "cell_type": "code",
   "execution_count": null,
   "id": "eeb3ed43",
   "metadata": {},
   "outputs": [],
   "source": [
    "evaluate_model(model, X_test, y_test)"
   ]
  },
  {
   "cell_type": "markdown",
   "id": "489a5395",
   "metadata": {},
   "source": [
    "## 🔬 Step 5: Interpret Feature Importance"
   ]
  },
  {
   "cell_type": "code",
   "execution_count": null,
   "id": "d517be21",
   "metadata": {},
   "outputs": [],
   "source": [
    "interpret_model(model, X.columns)"
   ]
  }
 ],
 "metadata": {},
 "nbformat": 4,
 "nbformat_minor": 5
}
