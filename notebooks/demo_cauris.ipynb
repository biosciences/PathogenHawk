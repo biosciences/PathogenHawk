{
 "cells": [
  {
   "cell_type": "markdown",
   "id": "d30199aa",
   "metadata": {},
   "source": [
    "# 🧠 PathogenHawk Demo: *Candida auris* AMR Prediction"
   ]
  },
  {
   "cell_type": "code",
   "execution_count": null,
   "id": "5f86a383",
   "metadata": {},
   "outputs": [],
   "source": [
    "import yaml\n",
    "import pandas as pd\n",
    "from feature_engineering.build_features import build_features\n",
    "from ml_model.evaluate_model import evaluate_model\n",
    "from ml_model.interpret_model import interpret_model\n",
    "from sklearn.model_selection import train_test_split\n",
    "from xgboost import XGBClassifier"
   ]
  },
  {
   "cell_type": "markdown",
   "id": "6b85bf13",
   "metadata": {},
   "source": [
    "## 🔧 Load Configuration"
   ]
  },
  {
   "cell_type": "code",
   "execution_count": null,
   "id": "e137c542",
   "metadata": {},
   "outputs": [],
   "source": [
    "with open(\"configs/Cauris.yaml\", \"r\") as f:\n",
    "    config = yaml.safe_load(f)"
   ]
  },
  {
   "cell_type": "markdown",
   "id": "159dd2a1",
   "metadata": {},
   "source": [
    "## 📊 Step 1: Load Features and Labels"
   ]
  },
  {
   "cell_type": "code",
   "execution_count": null,
   "id": "81fd9c3c",
   "metadata": {},
   "outputs": [],
   "source": [
    "X, y = build_features(config)\n",
    "print(\"✅ Features shape:\", X.shape)\n",
    "print(\"✅ Labels:\", pd.Series(y).value_counts().to_dict())"
   ]
  },
  {
   "cell_type": "markdown",
   "id": "e546f1f6",
   "metadata": {},
   "source": [
    "## 🔁 Step 2: Split Train/Test"
   ]
  },
  {
   "cell_type": "code",
   "execution_count": null,
   "id": "564268b2",
   "metadata": {},
   "outputs": [],
   "source": [
    "X_train, X_test, y_train, y_test = train_test_split(X, y, test_size=0.25, random_state=42)"
   ]
  },
  {
   "cell_type": "markdown",
   "id": "71e46edd",
   "metadata": {},
   "source": [
    "## 🤖 Step 3: Train ML Model"
   ]
  },
  {
   "cell_type": "code",
   "execution_count": null,
   "id": "5445ee78",
   "metadata": {},
   "outputs": [],
   "source": [
    "# 🤖 Step 3: Train ML Model (Updated with warning suppression)\n",
    "import warnings\n",
    "warnings.filterwarnings(\"ignore\", category=UserWarning)\n",
    "\n",
    "model = XGBClassifier(\n",
    "    objective=\"binary:logistic\",\n",
    "    eval_metric=\"logloss\",\n",
    "    base_score=0.5\n",
    ")\n",
    "model.fit(X_train, y_train)"
   ]
  },
  {
   "cell_type": "markdown",
   "id": "c910e0d5",
   "metadata": {},
   "source": [
    "## 📈 Step 4: Evaluate Model"
   ]
  },
  {
   "cell_type": "code",
   "execution_count": null,
   "id": "8d3a762a",
   "metadata": {},
   "outputs": [],
   "source": [
    "evaluate_model(model, X_test, y_test)"
   ]
  },
  {
   "cell_type": "markdown",
   "id": "4df15e23",
   "metadata": {},
   "source": [
    "## 🔬 Step 5: Interpret Feature Importance"
   ]
  },
  {
   "cell_type": "code",
   "execution_count": null,
   "id": "50e3cb0d",
   "metadata": {},
   "outputs": [],
   "source": [
    "interpret_model(model, X.columns)"
   ]
  }
 ],
 "metadata": {},
 "nbformat": 4,
 "nbformat_minor": 5
}
